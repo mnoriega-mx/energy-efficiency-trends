{
  "cells": [
    {
      "cell_type": "code",
      "execution_count": null,
      "id": "9c5e74e6",
      "metadata": {
        "id": "9c5e74e6"
      },
      "outputs": [],
      "source": [
        "# Final Project\n",
        "import pandas as pd\n",
        "import numpy as np"
      ]
    },
    {
      "cell_type": "code",
      "source": [],
      "metadata": {
        "id": "lkZOhrWW0L2r"
      },
      "id": "lkZOhrWW0L2r",
      "execution_count": null,
      "outputs": []
    }
  ],
  "metadata": {
    "language_info": {
      "name": "python"
    },
    "colab": {
      "provenance": []
    },
    "kernelspec": {
      "name": "python3",
      "display_name": "Python 3"
    }
  },
  "nbformat": 4,
  "nbformat_minor": 5
}