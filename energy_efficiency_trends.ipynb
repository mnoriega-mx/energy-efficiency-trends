{
  "cells": [
    {
      "cell_type": "code",
      "execution_count": 2,
      "id": "9c5e74e6",
      "metadata": {
        "id": "9c5e74e6"
      },
      "outputs": [],
      "source": [
        "# Final Project\n",
        "import pandas as pd\n",
        "import numpy as np"
      ]
    }
  ],
  "metadata": {
    "language_info": {
      "name": "python"
    },
    "colab": {
      "provenance": []
    },
    "kernelspec": {
      "name": "python3",
      "display_name": "Python 3"
    }
  },
  "nbformat": 4,
  "nbformat_minor": 5
}